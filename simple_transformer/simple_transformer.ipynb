{
 "cells": [
  {
   "cell_type": "code",
   "execution_count": 1,
   "metadata": {
    "colab": {
     "base_uri": "https://localhost:8080/"
    },
    "id": "Opxli2TatSka",
    "outputId": "c41e223b-988a-4814-dd4e-74e7fa97de6c"
   },
   "outputs": [
    {
     "name": "stdout",
     "output_type": "stream",
     "text": [
      "Mon May  9 21:05:27 2022       \n",
      "+-----------------------------------------------------------------------------+\n",
      "| NVIDIA-SMI 511.79       Driver Version: 511.79       CUDA Version: 11.6     |\n",
      "|-------------------------------+----------------------+----------------------+\n",
      "| GPU  Name            TCC/WDDM | Bus-Id        Disp.A | Volatile Uncorr. ECC |\n",
      "| Fan  Temp  Perf  Pwr:Usage/Cap|         Memory-Usage | GPU-Util  Compute M. |\n",
      "|                               |                      |               MIG M. |\n",
      "|===============================+======================+======================|\n",
      "|   0  NVIDIA GeForce ... WDDM  | 00000000:2B:00.0 Off |                  N/A |\n",
      "| N/A   50C    P8    N/A /  N/A |      0MiB /  2048MiB |      0%      Default |\n",
      "|                               |                      |                  N/A |\n",
      "+-------------------------------+----------------------+----------------------+\n",
      "                                                                               \n",
      "+-----------------------------------------------------------------------------+\n",
      "| Processes:                                                                  |\n",
      "|  GPU   GI   CI        PID   Type   Process name                  GPU Memory |\n",
      "|        ID   ID                                                   Usage      |\n",
      "|=============================================================================|\n",
      "|  No running processes found                                                 |\n",
      "+-----------------------------------------------------------------------------+\n"
     ]
    }
   ],
   "source": [
    "!nvidia-smi"
   ]
  },
  {
   "cell_type": "code",
   "execution_count": 2,
   "metadata": {
    "colab": {
     "base_uri": "https://localhost:8080/"
    },
    "id": "INunDjWAHGdW",
    "outputId": "12631497-a5ee-452b-c238-7c55e9b62cf8"
   },
   "outputs": [
    {
     "name": "stdout",
     "output_type": "stream",
     "text": [
      "Mounted at /content/drive\n"
     ]
    }
   ],
   "source": [
    "from google.colab import drive\n",
    "drive.mount('/content/drive')"
   ]
  },
  {
   "cell_type": "code",
   "execution_count": 46,
   "metadata": {
    "colab": {
     "base_uri": "https://localhost:8080/"
    },
    "id": "nrmoQ7E1HkOl",
    "outputId": "a4b60f81-27d5-4021-f7dc-7d9e3ba80d5e"
   },
   "outputs": [
    {
     "name": "stdout",
     "output_type": "stream",
     "text": [
      "/content/drive/MyDrive/qianyan_similarity\n"
     ]
    }
   ],
   "source": [
    "cd /content/drive/MyDrive/qianyan_similarity"
   ]
  },
  {
   "cell_type": "code",
   "execution_count": 2,
   "metadata": {
    "colab": {
     "base_uri": "https://localhost:8080/"
    },
    "id": "WeudgNKcFSc6",
    "outputId": "23feb800-98f2-4020-f7c9-67e36182ea37"
   },
   "outputs": [
    {
     "name": "stdout",
     "output_type": "stream",
     "text": [
      "D:\\Develop\\Project\\python\\qianyan_similarity\\Qianyan_Sentence_Pair_Classification\n"
     ]
    }
   ],
   "source": [
    "!pwd"
   ]
  },
  {
   "cell_type": "code",
   "execution_count": 15,
   "metadata": {
    "colab": {
     "base_uri": "https://localhost:8080/"
    },
    "id": "NAwORIbLsxer",
    "outputId": "3887dea1-3133-4c76-f78f-9cf1d616909b",
    "scrolled": true,
    "tags": []
   },
   "outputs": [
    {
     "name": "stdout",
     "output_type": "stream",
     "text": [
      "^C\n",
      "Looking in indexes: https://pypi.tuna.tsinghua.edu.cn/simple\n",
      "Requirement already satisfied: simpletransformers in d:\\program\\anaconda3\\envs\\qianyan_similarity\\lib\\site-packages (0.63.6)\n",
      "Requirement already satisfied: numpy in d:\\program\\anaconda3\\envs\\qianyan_similarity\\lib\\site-packages (from simpletransformers) (1.21.5)\n",
      "Requirement already satisfied: tokenizers in d:\\program\\anaconda3\\envs\\qianyan_similarity\\lib\\site-packages (from simpletransformers) (0.12.1)\n",
      "Requirement already satisfied: tensorboard in d:\\program\\anaconda3\\envs\\qianyan_similarity\\lib\\site-packages (from simpletransformers) (2.8.0)\n",
      "Requirement already satisfied: transformers>=4.6.0 in d:\\program\\anaconda3\\envs\\qianyan_similarity\\lib\\site-packages (from simpletransformers) (4.18.0)\n",
      "Requirement already satisfied: scipy in d:\\program\\anaconda3\\envs\\qianyan_similarity\\lib\\site-packages (from simpletransformers) (1.8.0)\n",
      "Requirement already satisfied: pandas in d:\\program\\anaconda3\\envs\\qianyan_similarity\\lib\\site-packages (from simpletransformers) (1.4.2)\n",
      "Requirement already satisfied: regex in d:\\program\\anaconda3\\envs\\qianyan_similarity\\lib\\site-packages (from simpletransformers) (2022.3.15)\n",
      "Requirement already satisfied: scikit-learn in d:\\program\\anaconda3\\envs\\qianyan_similarity\\lib\\site-packages (from simpletransformers) (1.0.2)\n",
      "Requirement already satisfied: streamlit in d:\\program\\anaconda3\\envs\\qianyan_similarity\\lib\\site-packages (from simpletransformers) (1.8.1)\n",
      "Requirement already satisfied: requests in d:\\program\\anaconda3\\envs\\qianyan_similarity\\lib\\site-packages (from simpletransformers) (2.27.1)\n",
      "Requirement already satisfied: datasets in d:\\program\\anaconda3\\envs\\qianyan_similarity\\lib\\site-packages (from simpletransformers) (2.1.0)\n",
      "Requirement already satisfied: sentencepiece in d:\\program\\anaconda3\\envs\\qianyan_similarity\\lib\\site-packages (from simpletransformers) (0.1.96)\n",
      "Requirement already satisfied: wandb>=0.10.32 in d:\\program\\anaconda3\\envs\\qianyan_similarity\\lib\\site-packages (from simpletransformers) (0.12.15)\n",
      "Requirement already satisfied: seqeval in d:\\program\\anaconda3\\envs\\qianyan_similarity\\lib\\site-packages (from simpletransformers) (1.2.2)\n",
      "Requirement already satisfied: tqdm>=4.47.0 in d:\\program\\anaconda3\\envs\\qianyan_similarity\\lib\\site-packages (from simpletransformers) (4.64.0)\n",
      "Requirement already satisfied: colorama in d:\\program\\anaconda3\\envs\\qianyan_similarity\\lib\\site-packages (from tqdm>=4.47.0->simpletransformers) (0.4.4)\n",
      "Requirement already satisfied: filelock in d:\\program\\anaconda3\\envs\\qianyan_similarity\\lib\\site-packages (from transformers>=4.6.0->simpletransformers) (3.6.0)\n",
      "Requirement already satisfied: pyyaml>=5.1 in d:\\program\\anaconda3\\envs\\qianyan_similarity\\lib\\site-packages (from transformers>=4.6.0->simpletransformers) (6.0)\n",
      "Requirement already satisfied: huggingface-hub<1.0,>=0.1.0 in d:\\program\\anaconda3\\envs\\qianyan_similarity\\lib\\site-packages (from transformers>=4.6.0->simpletransformers) (0.5.1)\n",
      "Requirement already satisfied: sacremoses in d:\\program\\anaconda3\\envs\\qianyan_similarity\\lib\\site-packages (from transformers>=4.6.0->simpletransformers) (0.0.43)\n",
      "Requirement already satisfied: packaging>=20.0 in d:\\program\\anaconda3\\envs\\qianyan_similarity\\lib\\site-packages (from transformers>=4.6.0->simpletransformers) (21.3)\n",
      "Requirement already satisfied: typing-extensions>=3.7.4.3 in d:\\program\\anaconda3\\envs\\qianyan_similarity\\lib\\site-packages (from huggingface-hub<1.0,>=0.1.0->transformers>=4.6.0->simpletransformers) (4.2.0)\n",
      "Requirement already satisfied: pyparsing!=3.0.5,>=2.0.2 in d:\\program\\anaconda3\\envs\\qianyan_similarity\\lib\\site-packages (from packaging>=20.0->transformers>=4.6.0->simpletransformers) (3.0.4)\n",
      "Requirement already satisfied: setproctitle in d:\\program\\anaconda3\\envs\\qianyan_similarity\\lib\\site-packages (from wandb>=0.10.32->simpletransformers) (1.2.3)\n",
      "Requirement already satisfied: protobuf>=3.12.0 in d:\\program\\anaconda3\\envs\\qianyan_similarity\\lib\\site-packages (from wandb>=0.10.32->simpletransformers) (3.20.1)\n",
      "Requirement already satisfied: pathtools in d:\\program\\anaconda3\\envs\\qianyan_similarity\\lib\\site-packages (from wandb>=0.10.32->simpletransformers) (0.1.2)\n",
      "Requirement already satisfied: python-dateutil>=2.6.1 in d:\\program\\anaconda3\\envs\\qianyan_similarity\\lib\\site-packages (from wandb>=0.10.32->simpletransformers) (2.8.2)\n",
      "Requirement already satisfied: Click!=8.0.0,>=7.0 in d:\\program\\anaconda3\\envs\\qianyan_similarity\\lib\\site-packages (from wandb>=0.10.32->simpletransformers) (8.0.4)\n",
      "Requirement already satisfied: GitPython>=1.0.0 in d:\\program\\anaconda3\\envs\\qianyan_similarity\\lib\\site-packages (from wandb>=0.10.32->simpletransformers) (3.1.27)\n",
      "Requirement already satisfied: docker-pycreds>=0.4.0 in d:\\program\\anaconda3\\envs\\qianyan_similarity\\lib\\site-packages (from wandb>=0.10.32->simpletransformers) (0.4.0)\n",
      "Requirement already satisfied: promise<3,>=2.0 in d:\\program\\anaconda3\\envs\\qianyan_similarity\\lib\\site-packages (from wandb>=0.10.32->simpletransformers) (2.3)\n",
      "Requirement already satisfied: six>=1.13.0 in d:\\program\\anaconda3\\envs\\qianyan_similarity\\lib\\site-packages (from wandb>=0.10.32->simpletransformers) (1.16.0)\n",
      "Requirement already satisfied: psutil>=5.0.0 in d:\\program\\anaconda3\\envs\\qianyan_similarity\\lib\\site-packages (from wandb>=0.10.32->simpletransformers) (5.9.0)\n",
      "Requirement already satisfied: sentry-sdk>=1.0.0 in d:\\program\\anaconda3\\envs\\qianyan_similarity\\lib\\site-packages (from wandb>=0.10.32->simpletransformers) (1.5.10)\n",
      "Requirement already satisfied: shortuuid>=0.5.0 in d:\\program\\anaconda3\\envs\\qianyan_similarity\\lib\\site-packages (from wandb>=0.10.32->simpletransformers) (1.0.8)\n",
      "Requirement already satisfied: gitdb<5,>=4.0.1 in d:\\program\\anaconda3\\envs\\qianyan_similarity\\lib\\site-packages (from GitPython>=1.0.0->wandb>=0.10.32->simpletransformers) (4.0.9)\n",
      "Requirement already satisfied: smmap<6,>=3.0.1 in d:\\program\\anaconda3\\envs\\qianyan_similarity\\lib\\site-packages (from gitdb<5,>=4.0.1->GitPython>=1.0.0->wandb>=0.10.32->simpletransformers) (5.0.0)\n",
      "Requirement already satisfied: urllib3<1.27,>=1.21.1 in d:\\program\\anaconda3\\envs\\qianyan_similarity\\lib\\site-packages (from requests->simpletransformers) (1.26.9)\n",
      "Requirement already satisfied: certifi>=2017.4.17 in d:\\program\\anaconda3\\envs\\qianyan_similarity\\lib\\site-packages (from requests->simpletransformers) (2021.10.8)\n",
      "Requirement already satisfied: idna<4,>=2.5 in d:\\program\\anaconda3\\envs\\qianyan_similarity\\lib\\site-packages (from requests->simpletransformers) (3.3)\n",
      "Requirement already satisfied: charset-normalizer~=2.0.0 in d:\\program\\anaconda3\\envs\\qianyan_similarity\\lib\\site-packages (from requests->simpletransformers) (2.0.4)\n",
      "Requirement already satisfied: dill in d:\\program\\anaconda3\\envs\\qianyan_similarity\\lib\\site-packages (from datasets->simpletransformers) (0.3.4)\n",
      "Requirement already satisfied: multiprocess in d:\\program\\anaconda3\\envs\\qianyan_similarity\\lib\\site-packages (from datasets->simpletransformers) (0.70.12.2)\n",
      "Requirement already satisfied: pyarrow>=5.0.0 in d:\\program\\anaconda3\\envs\\qianyan_similarity\\lib\\site-packages (from datasets->simpletransformers) (7.0.0)\n",
      "Requirement already satisfied: fsspec[http]>=2021.05.0 in d:\\program\\anaconda3\\envs\\qianyan_similarity\\lib\\site-packages (from datasets->simpletransformers) (2022.3.0)\n",
      "Requirement already satisfied: responses<0.19 in d:\\program\\anaconda3\\envs\\qianyan_similarity\\lib\\site-packages (from datasets->simpletransformers) (0.18.0)\n",
      "Requirement already satisfied: xxhash in d:\\program\\anaconda3\\envs\\qianyan_similarity\\lib\\site-packages (from datasets->simpletransformers) (3.0.0)\n",
      "Requirement already satisfied: aiohttp in d:\\program\\anaconda3\\envs\\qianyan_similarity\\lib\\site-packages (from datasets->simpletransformers) (3.8.1)\n",
      "Requirement already satisfied: frozenlist>=1.1.1 in d:\\program\\anaconda3\\envs\\qianyan_similarity\\lib\\site-packages (from aiohttp->datasets->simpletransformers) (1.3.0)\n",
      "Requirement already satisfied: aiosignal>=1.1.2 in d:\\program\\anaconda3\\envs\\qianyan_similarity\\lib\\site-packages (from aiohttp->datasets->simpletransformers) (1.2.0)\n",
      "Requirement already satisfied: multidict<7.0,>=4.5 in d:\\program\\anaconda3\\envs\\qianyan_similarity\\lib\\site-packages (from aiohttp->datasets->simpletransformers) (6.0.2)\n",
      "Requirement already satisfied: attrs>=17.3.0 in d:\\program\\anaconda3\\envs\\qianyan_similarity\\lib\\site-packages (from aiohttp->datasets->simpletransformers) (21.4.0)\n",
      "Requirement already satisfied: async-timeout<5.0,>=4.0.0a3 in d:\\program\\anaconda3\\envs\\qianyan_similarity\\lib\\site-packages (from aiohttp->datasets->simpletransformers) (4.0.2)\n",
      "Requirement already satisfied: yarl<2.0,>=1.0 in d:\\program\\anaconda3\\envs\\qianyan_similarity\\lib\\site-packages (from aiohttp->datasets->simpletransformers) (1.7.2)\n",
      "Requirement already satisfied: pytz>=2020.1 in d:\\program\\anaconda3\\envs\\qianyan_similarity\\lib\\site-packages (from pandas->simpletransformers) (2022.1)\n",
      "Requirement already satisfied: joblib in d:\\program\\anaconda3\\envs\\qianyan_similarity\\lib\\site-packages (from sacremoses->transformers>=4.6.0->simpletransformers) (1.1.0)\n",
      "Requirement already satisfied: threadpoolctl>=2.0.0 in d:\\program\\anaconda3\\envs\\qianyan_similarity\\lib\\site-packages (from scikit-learn->simpletransformers) (3.1.0)\n",
      "Requirement already satisfied: pympler>=0.9 in d:\\program\\anaconda3\\envs\\qianyan_similarity\\lib\\site-packages (from streamlit->simpletransformers) (1.0.1)\n",
      "Requirement already satisfied: semver in d:\\program\\anaconda3\\envs\\qianyan_similarity\\lib\\site-packages (from streamlit->simpletransformers) (2.13.0)\n",
      "Requirement already satisfied: tzlocal in d:\\program\\anaconda3\\envs\\qianyan_similarity\\lib\\site-packages (from streamlit->simpletransformers) (4.2)\n",
      "Requirement already satisfied: importlib-metadata>=1.4 in d:\\program\\anaconda3\\envs\\qianyan_similarity\\lib\\site-packages (from streamlit->simpletransformers) (4.11.3)\n",
      "Requirement already satisfied: validators in d:\\program\\anaconda3\\envs\\qianyan_similarity\\lib\\site-packages (from streamlit->simpletransformers) (0.18.2)\n",
      "Requirement already satisfied: pydeck>=0.1.dev5 in d:\\program\\anaconda3\\envs\\qianyan_similarity\\lib\\site-packages (from streamlit->simpletransformers) (0.7.1)\n",
      "Requirement already satisfied: tornado>=5.0 in d:\\program\\anaconda3\\envs\\qianyan_similarity\\lib\\site-packages (from streamlit->simpletransformers) (6.1)\n",
      "Requirement already satisfied: blinker in d:\\program\\anaconda3\\envs\\qianyan_similarity\\lib\\site-packages (from streamlit->simpletransformers) (1.4)\n",
      "Requirement already satisfied: altair>=3.2.0 in d:\\program\\anaconda3\\envs\\qianyan_similarity\\lib\\site-packages (from streamlit->simpletransformers) (4.2.0)\n",
      "Requirement already satisfied: watchdog in d:\\program\\anaconda3\\envs\\qianyan_similarity\\lib\\site-packages (from streamlit->simpletransformers) (2.1.7)\n",
      "Requirement already satisfied: cachetools>=4.0 in d:\\program\\anaconda3\\envs\\qianyan_similarity\\lib\\site-packages (from streamlit->simpletransformers) (5.0.0)\n",
      "Requirement already satisfied: toml in d:\\program\\anaconda3\\envs\\qianyan_similarity\\lib\\site-packages (from streamlit->simpletransformers) (0.10.2)\n",
      "Requirement already satisfied: pillow>=6.2.0 in d:\\program\\anaconda3\\envs\\qianyan_similarity\\lib\\site-packages (from streamlit->simpletransformers) (9.1.0)\n",
      "Requirement already satisfied: jsonschema>=3.0 in d:\\program\\anaconda3\\envs\\qianyan_similarity\\lib\\site-packages (from altair>=3.2.0->streamlit->simpletransformers) (4.4.0)\n",
      "Requirement already satisfied: toolz in d:\\program\\anaconda3\\envs\\qianyan_similarity\\lib\\site-packages (from altair>=3.2.0->streamlit->simpletransformers) (0.11.2)\n",
      "Requirement already satisfied: entrypoints in d:\\program\\anaconda3\\envs\\qianyan_similarity\\lib\\site-packages (from altair>=3.2.0->streamlit->simpletransformers) (0.4)\n",
      "Requirement already satisfied: jinja2 in d:\\program\\anaconda3\\envs\\qianyan_similarity\\lib\\site-packages (from altair>=3.2.0->streamlit->simpletransformers) (3.1.1)\n",
      "Requirement already satisfied: zipp>=0.5 in d:\\program\\anaconda3\\envs\\qianyan_similarity\\lib\\site-packages (from importlib-metadata>=1.4->streamlit->simpletransformers) (3.8.0)\n",
      "Requirement already satisfied: pyrsistent!=0.17.0,!=0.17.1,!=0.17.2,>=0.14.0 in d:\\program\\anaconda3\\envs\\qianyan_similarity\\lib\\site-packages (from jsonschema>=3.0->altair>=3.2.0->streamlit->simpletransformers) (0.18.1)\n",
      "Requirement already satisfied: ipywidgets>=7.0.0 in d:\\program\\anaconda3\\envs\\qianyan_similarity\\lib\\site-packages (from pydeck>=0.1.dev5->streamlit->simpletransformers) (7.7.0)\n",
      "Requirement already satisfied: traitlets>=4.3.2 in d:\\program\\anaconda3\\envs\\qianyan_similarity\\lib\\site-packages (from pydeck>=0.1.dev5->streamlit->simpletransformers) (5.1.1)\n",
      "Requirement already satisfied: ipykernel>=5.1.2 in d:\\program\\anaconda3\\envs\\qianyan_similarity\\lib\\site-packages (from pydeck>=0.1.dev5->streamlit->simpletransformers) (6.13.0)\n",
      "Requirement already satisfied: nest-asyncio in d:\\program\\anaconda3\\envs\\qianyan_similarity\\lib\\site-packages (from ipykernel>=5.1.2->pydeck>=0.1.dev5->streamlit->simpletransformers) (1.5.5)\n",
      "Requirement already satisfied: debugpy>=1.0 in d:\\program\\anaconda3\\envs\\qianyan_similarity\\lib\\site-packages (from ipykernel>=5.1.2->pydeck>=0.1.dev5->streamlit->simpletransformers) (1.6.0)\n",
      "Requirement already satisfied: matplotlib-inline>=0.1 in d:\\program\\anaconda3\\envs\\qianyan_similarity\\lib\\site-packages (from ipykernel>=5.1.2->pydeck>=0.1.dev5->streamlit->simpletransformers) (0.1.3)\n",
      "Requirement already satisfied: jupyter-client>=6.1.12 in d:\\program\\anaconda3\\envs\\qianyan_similarity\\lib\\site-packages (from ipykernel>=5.1.2->pydeck>=0.1.dev5->streamlit->simpletransformers) (7.3.0)\n",
      "Requirement already satisfied: ipython>=7.23.1 in d:\\program\\anaconda3\\envs\\qianyan_similarity\\lib\\site-packages (from ipykernel>=5.1.2->pydeck>=0.1.dev5->streamlit->simpletransformers) (8.2.0)\n",
      "Requirement already satisfied: decorator in d:\\program\\anaconda3\\envs\\qianyan_similarity\\lib\\site-packages (from ipython>=7.23.1->ipykernel>=5.1.2->pydeck>=0.1.dev5->streamlit->simpletransformers) (5.1.1)\n",
      "Requirement already satisfied: backcall in d:\\program\\anaconda3\\envs\\qianyan_similarity\\lib\\site-packages (from ipython>=7.23.1->ipykernel>=5.1.2->pydeck>=0.1.dev5->streamlit->simpletransformers) (0.2.0)\n",
      "Requirement already satisfied: pygments>=2.4.0 in d:\\program\\anaconda3\\envs\\qianyan_similarity\\lib\\site-packages (from ipython>=7.23.1->ipykernel>=5.1.2->pydeck>=0.1.dev5->streamlit->simpletransformers) (2.12.0)\n",
      "Requirement already satisfied: jedi>=0.16 in d:\\program\\anaconda3\\envs\\qianyan_similarity\\lib\\site-packages (from ipython>=7.23.1->ipykernel>=5.1.2->pydeck>=0.1.dev5->streamlit->simpletransformers) (0.18.1)\n",
      "Requirement already satisfied: prompt-toolkit!=3.0.0,!=3.0.1,<3.1.0,>=2.0.0 in d:\\program\\anaconda3\\envs\\qianyan_similarity\\lib\\site-packages (from ipython>=7.23.1->ipykernel>=5.1.2->pydeck>=0.1.dev5->streamlit->simpletransformers) (3.0.29)\n",
      "Requirement already satisfied: setuptools>=18.5 in d:\\program\\anaconda3\\envs\\qianyan_similarity\\lib\\site-packages (from ipython>=7.23.1->ipykernel>=5.1.2->pydeck>=0.1.dev5->streamlit->simpletransformers) (61.2.0)\n",
      "Requirement already satisfied: stack-data in d:\\program\\anaconda3\\envs\\qianyan_similarity\\lib\\site-packages (from ipython>=7.23.1->ipykernel>=5.1.2->pydeck>=0.1.dev5->streamlit->simpletransformers) (0.2.0)\n",
      "Requirement already satisfied: pickleshare in d:\\program\\anaconda3\\envs\\qianyan_similarity\\lib\\site-packages (from ipython>=7.23.1->ipykernel>=5.1.2->pydeck>=0.1.dev5->streamlit->simpletransformers) (0.7.5)\n",
      "Requirement already satisfied: jupyterlab-widgets>=1.0.0 in d:\\program\\anaconda3\\envs\\qianyan_similarity\\lib\\site-packages (from ipywidgets>=7.0.0->pydeck>=0.1.dev5->streamlit->simpletransformers) (1.1.0)\n",
      "Requirement already satisfied: nbformat>=4.2.0 in d:\\program\\anaconda3\\envs\\qianyan_similarity\\lib\\site-packages (from ipywidgets>=7.0.0->pydeck>=0.1.dev5->streamlit->simpletransformers) (5.3.0)\n",
      "Requirement already satisfied: widgetsnbextension~=3.6.0 in d:\\program\\anaconda3\\envs\\qianyan_similarity\\lib\\site-packages (from ipywidgets>=7.0.0->pydeck>=0.1.dev5->streamlit->simpletransformers) (3.6.0)\n",
      "Requirement already satisfied: ipython-genutils~=0.2.0 in d:\\program\\anaconda3\\envs\\qianyan_similarity\\lib\\site-packages (from ipywidgets>=7.0.0->pydeck>=0.1.dev5->streamlit->simpletransformers) (0.2.0)\n",
      "Requirement already satisfied: parso<0.9.0,>=0.8.0 in d:\\program\\anaconda3\\envs\\qianyan_similarity\\lib\\site-packages (from jedi>=0.16->ipython>=7.23.1->ipykernel>=5.1.2->pydeck>=0.1.dev5->streamlit->simpletransformers) (0.8.3)\n",
      "Requirement already satisfied: MarkupSafe>=2.0 in d:\\program\\anaconda3\\envs\\qianyan_similarity\\lib\\site-packages (from jinja2->altair>=3.2.0->streamlit->simpletransformers) (2.1.1)\n",
      "Requirement already satisfied: pyzmq>=22.3 in d:\\program\\anaconda3\\envs\\qianyan_similarity\\lib\\site-packages (from jupyter-client>=6.1.12->ipykernel>=5.1.2->pydeck>=0.1.dev5->streamlit->simpletransformers) (22.3.0)\n",
      "Requirement already satisfied: jupyter-core>=4.9.2 in d:\\program\\anaconda3\\envs\\qianyan_similarity\\lib\\site-packages (from jupyter-client>=6.1.12->ipykernel>=5.1.2->pydeck>=0.1.dev5->streamlit->simpletransformers) (4.10.0)\n",
      "Requirement already satisfied: pywin32>=1.0 in d:\\program\\anaconda3\\envs\\qianyan_similarity\\lib\\site-packages (from jupyter-core>=4.9.2->jupyter-client>=6.1.12->ipykernel>=5.1.2->pydeck>=0.1.dev5->streamlit->simpletransformers) (303)\n",
      "Requirement already satisfied: fastjsonschema in d:\\program\\anaconda3\\envs\\qianyan_similarity\\lib\\site-packages (from nbformat>=4.2.0->ipywidgets>=7.0.0->pydeck>=0.1.dev5->streamlit->simpletransformers) (2.15.3)\n",
      "Requirement already satisfied: wcwidth in d:\\program\\anaconda3\\envs\\qianyan_similarity\\lib\\site-packages (from prompt-toolkit!=3.0.0,!=3.0.1,<3.1.0,>=2.0.0->ipython>=7.23.1->ipykernel>=5.1.2->pydeck>=0.1.dev5->streamlit->simpletransformers) (0.2.5)\n",
      "Requirement already satisfied: notebook>=4.4.1 in d:\\program\\anaconda3\\envs\\qianyan_similarity\\lib\\site-packages (from widgetsnbextension~=3.6.0->ipywidgets>=7.0.0->pydeck>=0.1.dev5->streamlit->simpletransformers) (6.4.11)\n",
      "Requirement already satisfied: terminado>=0.8.3 in d:\\program\\anaconda3\\envs\\qianyan_similarity\\lib\\site-packages (from notebook>=4.4.1->widgetsnbextension~=3.6.0->ipywidgets>=7.0.0->pydeck>=0.1.dev5->streamlit->simpletransformers) (0.13.3)\n",
      "Requirement already satisfied: argon2-cffi in d:\\program\\anaconda3\\envs\\qianyan_similarity\\lib\\site-packages (from notebook>=4.4.1->widgetsnbextension~=3.6.0->ipywidgets>=7.0.0->pydeck>=0.1.dev5->streamlit->simpletransformers) (21.3.0)\n",
      "Requirement already satisfied: Send2Trash>=1.8.0 in d:\\program\\anaconda3\\envs\\qianyan_similarity\\lib\\site-packages (from notebook>=4.4.1->widgetsnbextension~=3.6.0->ipywidgets>=7.0.0->pydeck>=0.1.dev5->streamlit->simpletransformers) (1.8.0)\n",
      "Requirement already satisfied: prometheus-client in d:\\program\\anaconda3\\envs\\qianyan_similarity\\lib\\site-packages (from notebook>=4.4.1->widgetsnbextension~=3.6.0->ipywidgets>=7.0.0->pydeck>=0.1.dev5->streamlit->simpletransformers) (0.14.1)\n",
      "Requirement already satisfied: nbconvert>=5 in d:\\program\\anaconda3\\envs\\qianyan_similarity\\lib\\site-packages (from notebook>=4.4.1->widgetsnbextension~=3.6.0->ipywidgets>=7.0.0->pydeck>=0.1.dev5->streamlit->simpletransformers) (6.5.0)\n",
      "Requirement already satisfied: beautifulsoup4 in d:\\program\\anaconda3\\envs\\qianyan_similarity\\lib\\site-packages (from nbconvert>=5->notebook>=4.4.1->widgetsnbextension~=3.6.0->ipywidgets>=7.0.0->pydeck>=0.1.dev5->streamlit->simpletransformers) (4.11.1)\n",
      "Requirement already satisfied: pandocfilters>=1.4.1 in d:\\program\\anaconda3\\envs\\qianyan_similarity\\lib\\site-packages (from nbconvert>=5->notebook>=4.4.1->widgetsnbextension~=3.6.0->ipywidgets>=7.0.0->pydeck>=0.1.dev5->streamlit->simpletransformers) (1.5.0)\n",
      "Requirement already satisfied: tinycss2 in d:\\program\\anaconda3\\envs\\qianyan_similarity\\lib\\site-packages (from nbconvert>=5->notebook>=4.4.1->widgetsnbextension~=3.6.0->ipywidgets>=7.0.0->pydeck>=0.1.dev5->streamlit->simpletransformers) (1.1.1)\n",
      "Requirement already satisfied: defusedxml in d:\\program\\anaconda3\\envs\\qianyan_similarity\\lib\\site-packages (from nbconvert>=5->notebook>=4.4.1->widgetsnbextension~=3.6.0->ipywidgets>=7.0.0->pydeck>=0.1.dev5->streamlit->simpletransformers) (0.7.1)\n",
      "Requirement already satisfied: jupyterlab-pygments in d:\\program\\anaconda3\\envs\\qianyan_similarity\\lib\\site-packages (from nbconvert>=5->notebook>=4.4.1->widgetsnbextension~=3.6.0->ipywidgets>=7.0.0->pydeck>=0.1.dev5->streamlit->simpletransformers) (0.2.2)\n",
      "Requirement already satisfied: nbclient>=0.5.0 in d:\\program\\anaconda3\\envs\\qianyan_similarity\\lib\\site-packages (from nbconvert>=5->notebook>=4.4.1->widgetsnbextension~=3.6.0->ipywidgets>=7.0.0->pydeck>=0.1.dev5->streamlit->simpletransformers) (0.6.0)\n",
      "Requirement already satisfied: mistune<2,>=0.8.1 in d:\\program\\anaconda3\\envs\\qianyan_similarity\\lib\\site-packages (from nbconvert>=5->notebook>=4.4.1->widgetsnbextension~=3.6.0->ipywidgets>=7.0.0->pydeck>=0.1.dev5->streamlit->simpletransformers) (0.8.4)\n",
      "Requirement already satisfied: bleach in d:\\program\\anaconda3\\envs\\qianyan_similarity\\lib\\site-packages (from nbconvert>=5->notebook>=4.4.1->widgetsnbextension~=3.6.0->ipywidgets>=7.0.0->pydeck>=0.1.dev5->streamlit->simpletransformers) (5.0.0)\n",
      "Requirement already satisfied: pywinpty>=1.1.0 in d:\\program\\anaconda3\\envs\\qianyan_similarity\\lib\\site-packages (from terminado>=0.8.3->notebook>=4.4.1->widgetsnbextension~=3.6.0->ipywidgets>=7.0.0->pydeck>=0.1.dev5->streamlit->simpletransformers) (2.0.5)\n",
      "Requirement already satisfied: argon2-cffi-bindings in d:\\program\\anaconda3\\envs\\qianyan_similarity\\lib\\site-packages (from argon2-cffi->notebook>=4.4.1->widgetsnbextension~=3.6.0->ipywidgets>=7.0.0->pydeck>=0.1.dev5->streamlit->simpletransformers) (21.2.0)\n",
      "Requirement already satisfied: cffi>=1.0.1 in d:\\program\\anaconda3\\envs\\qianyan_similarity\\lib\\site-packages (from argon2-cffi-bindings->argon2-cffi->notebook>=4.4.1->widgetsnbextension~=3.6.0->ipywidgets>=7.0.0->pydeck>=0.1.dev5->streamlit->simpletransformers) (1.15.0)\n",
      "Requirement already satisfied: pycparser in d:\\program\\anaconda3\\envs\\qianyan_similarity\\lib\\site-packages (from cffi>=1.0.1->argon2-cffi-bindings->argon2-cffi->notebook>=4.4.1->widgetsnbextension~=3.6.0->ipywidgets>=7.0.0->pydeck>=0.1.dev5->streamlit->simpletransformers) (2.21)\n",
      "Requirement already satisfied: soupsieve>1.2 in d:\\program\\anaconda3\\envs\\qianyan_similarity\\lib\\site-packages (from beautifulsoup4->nbconvert>=5->notebook>=4.4.1->widgetsnbextension~=3.6.0->ipywidgets>=7.0.0->pydeck>=0.1.dev5->streamlit->simpletransformers) (2.3.2.post1)\n",
      "Requirement already satisfied: webencodings in d:\\program\\anaconda3\\envs\\qianyan_similarity\\lib\\site-packages (from bleach->nbconvert>=5->notebook>=4.4.1->widgetsnbextension~=3.6.0->ipywidgets>=7.0.0->pydeck>=0.1.dev5->streamlit->simpletransformers) (0.5.1)\n",
      "Requirement already satisfied: asttokens in d:\\program\\anaconda3\\envs\\qianyan_similarity\\lib\\site-packages (from stack-data->ipython>=7.23.1->ipykernel>=5.1.2->pydeck>=0.1.dev5->streamlit->simpletransformers) (2.0.5)\n",
      "Requirement already satisfied: executing in d:\\program\\anaconda3\\envs\\qianyan_similarity\\lib\\site-packages (from stack-data->ipython>=7.23.1->ipykernel>=5.1.2->pydeck>=0.1.dev5->streamlit->simpletransformers) (0.8.3)\n",
      "Requirement already satisfied: pure-eval in d:\\program\\anaconda3\\envs\\qianyan_similarity\\lib\\site-packages (from stack-data->ipython>=7.23.1->ipykernel>=5.1.2->pydeck>=0.1.dev5->streamlit->simpletransformers) (0.2.2)\n",
      "Requirement already satisfied: google-auth-oauthlib<0.5,>=0.4.1 in d:\\program\\anaconda3\\envs\\qianyan_similarity\\lib\\site-packages (from tensorboard->simpletransformers) (0.4.6)\n",
      "Requirement already satisfied: tensorboard-data-server<0.7.0,>=0.6.0 in d:\\program\\anaconda3\\envs\\qianyan_similarity\\lib\\site-packages (from tensorboard->simpletransformers) (0.6.1)\n",
      "Requirement already satisfied: tensorboard-plugin-wit>=1.6.0 in d:\\program\\anaconda3\\envs\\qianyan_similarity\\lib\\site-packages (from tensorboard->simpletransformers) (1.8.1)\n",
      "Requirement already satisfied: grpcio>=1.24.3 in d:\\program\\anaconda3\\envs\\qianyan_similarity\\lib\\site-packages (from tensorboard->simpletransformers) (1.45.0)\n",
      "Requirement already satisfied: markdown>=2.6.8 in d:\\program\\anaconda3\\envs\\qianyan_similarity\\lib\\site-packages (from tensorboard->simpletransformers) (3.3.6)\n",
      "Requirement already satisfied: google-auth<3,>=1.6.3 in d:\\program\\anaconda3\\envs\\qianyan_similarity\\lib\\site-packages (from tensorboard->simpletransformers) (2.6.6)\n",
      "Requirement already satisfied: absl-py>=0.4 in d:\\program\\anaconda3\\envs\\qianyan_similarity\\lib\\site-packages (from tensorboard->simpletransformers) (1.0.0)\n",
      "Requirement already satisfied: werkzeug>=0.11.15 in d:\\program\\anaconda3\\envs\\qianyan_similarity\\lib\\site-packages (from tensorboard->simpletransformers) (2.1.1)\n",
      "Requirement already satisfied: wheel>=0.26 in d:\\program\\anaconda3\\envs\\qianyan_similarity\\lib\\site-packages (from tensorboard->simpletransformers) (0.37.1)\n",
      "Requirement already satisfied: pyasn1-modules>=0.2.1 in d:\\program\\anaconda3\\envs\\qianyan_similarity\\lib\\site-packages (from google-auth<3,>=1.6.3->tensorboard->simpletransformers) (0.2.8)\n",
      "Requirement already satisfied: rsa<5,>=3.1.4 in d:\\program\\anaconda3\\envs\\qianyan_similarity\\lib\\site-packages (from google-auth<3,>=1.6.3->tensorboard->simpletransformers) (4.8)\n",
      "Requirement already satisfied: requests-oauthlib>=0.7.0 in d:\\program\\anaconda3\\envs\\qianyan_similarity\\lib\\site-packages (from google-auth-oauthlib<0.5,>=0.4.1->tensorboard->simpletransformers) (1.3.1)\n",
      "Requirement already satisfied: pyasn1<0.5.0,>=0.4.6 in d:\\program\\anaconda3\\envs\\qianyan_similarity\\lib\\site-packages (from pyasn1-modules>=0.2.1->google-auth<3,>=1.6.3->tensorboard->simpletransformers) (0.4.8)\n",
      "Requirement already satisfied: oauthlib>=3.0.0 in d:\\program\\anaconda3\\envs\\qianyan_similarity\\lib\\site-packages (from requests-oauthlib>=0.7.0->google-auth-oauthlib<0.5,>=0.4.1->tensorboard->simpletransformers) (3.2.0)\n",
      "Requirement already satisfied: tzdata in d:\\program\\anaconda3\\envs\\qianyan_similarity\\lib\\site-packages (from tzlocal->streamlit->simpletransformers) (2022.1)\n",
      "Requirement already satisfied: pytz-deprecation-shim in d:\\program\\anaconda3\\envs\\qianyan_similarity\\lib\\site-packages (from tzlocal->streamlit->simpletransformers) (0.1.0.post0)\n"
     ]
    }
   ],
   "source": [
    "!pip install simpletransformers"
   ]
  },
  {
   "cell_type": "code",
   "execution_count": 3,
   "metadata": {
    "id": "TbjuOcnwu9Sv"
   },
   "outputs": [],
   "source": [
    "from simpletransformers.classification import (\n",
    "    ClassificationModel, ClassificationArgs\n",
    ")\n",
    "import pandas as pd\n",
    "import logging\n",
    "import csv\n",
    "import tqdm\n",
    "import torch"
   ]
  },
  {
   "cell_type": "code",
   "execution_count": 4,
   "metadata": {
    "id": "FRvNUTeXvdtR"
   },
   "outputs": [],
   "source": [
    "logging.basicConfig(level=logging.INFO)\n",
    "transformers_logger = logging.getLogger(\"transformers\")\n",
    "transformers_logger.setLevel(logging.WARNING)"
   ]
  },
  {
   "cell_type": "code",
   "execution_count": 3,
   "metadata": {
    "id": "1QE17vJcAIjZ"
   },
   "outputs": [],
   "source": [
    "! rm -rf cache_dir/ outputs/ runs/"
   ]
  },
  {
   "cell_type": "code",
   "execution_count": 5,
   "metadata": {
    "id": "1XLJ5evLvhwH"
   },
   "outputs": [
    {
     "name": "stdout",
     "output_type": "stream",
     "text": [
      "5000\n",
      "10000\n",
      "10000\n"
     ]
    }
   ],
   "source": [
    "# 语料加载\n",
    "\n",
    "corpus_name = ['lcqmc', 'bq_corpus', 'paws-x-zh']\n",
    "corpus_path = corpus_name[1]\n",
    "\n",
    "\n",
    "train_data = []\n",
    "eval_data = []\n",
    "test_data = []\n",
    "\n",
    "\n",
    "with open(\"data/\" + corpus_path + \"/train.tsv\", 'rt', encoding='utf-8') as fIn:\n",
    "    tsv_file = csv.reader(fIn, delimiter=\"\\t\")\n",
    "    for line in tsv_file:\n",
    "        train_data.append(line)\n",
    "train_data = train_data[:5000]\n",
    "for i in range(len(train_data)):\n",
    "    train_data[i][2] = int(train_data[i][2]) # 标注改为int\n",
    "train_df = pd.DataFrame(train_data)\n",
    "train_df.columns = [\"text_a\", \"text_b\", \"labels\"]\n",
    "\n",
    "\n",
    "with open(\"data/\" + corpus_path + \"/dev.tsv\", 'rt', encoding='utf8') as fIn:\n",
    "    tsv_file = csv.reader(fIn, delimiter=\"\\t\")\n",
    "    for line in tsv_file:\n",
    "        eval_data.append(line)\n",
    "for i in range(len(eval_data)):\n",
    "    eval_data[i][2] = int(eval_data[i][2])  # 标注改为int\n",
    "eval_df = pd.DataFrame(eval_data)\n",
    "eval_df.columns = [\"text_a\", \"text_b\", \"labels\"]\n",
    "\n",
    "\n",
    "with open(\"data/\" + corpus_path + \"/test.tsv\", 'rt', encoding='utf8') as fIn:\n",
    "    tsv_file = csv.reader(fIn, delimiter=\"\\t\")\n",
    "    for line in tsv_file:\n",
    "        test_data.append(line)\n",
    "\n",
    "print(len(train_data))\n",
    "print(len(eval_data))\n",
    "print(len(test_data))"
   ]
  },
  {
   "cell_type": "code",
   "execution_count": 8,
   "metadata": {
    "colab": {
     "base_uri": "https://localhost:8080/"
    },
    "id": "vz_WRxVGGR2J",
    "outputId": "0d83a8e2-75bf-4237-a07f-4dbef8407a42"
   },
   "outputs": [
    {
     "name": "stderr",
     "output_type": "stream",
     "text": [
      "Some weights of the model checkpoint at roberta-base were not used when initializing RobertaForSequenceClassification: ['lm_head.dense.bias', 'lm_head.layer_norm.bias', 'lm_head.decoder.weight', 'roberta.pooler.dense.weight', 'roberta.pooler.dense.bias', 'lm_head.bias', 'lm_head.dense.weight', 'lm_head.layer_norm.weight']\n",
      "- This IS expected if you are initializing RobertaForSequenceClassification from the checkpoint of a model trained on another task or with another architecture (e.g. initializing a BertForSequenceClassification model from a BertForPreTraining model).\n",
      "- This IS NOT expected if you are initializing RobertaForSequenceClassification from the checkpoint of a model that you expect to be exactly identical (initializing a BertForSequenceClassification model from a BertForSequenceClassification model).\n",
      "Some weights of RobertaForSequenceClassification were not initialized from the model checkpoint at roberta-base and are newly initialized: ['classifier.out_proj.bias', 'classifier.dense.bias', 'classifier.out_proj.weight', 'classifier.dense.weight']\n",
      "You should probably TRAIN this model on a down-stream task to be able to use it for predictions and inference.\n"
     ]
    }
   ],
   "source": [
    "# model_type = \"bert\"\n",
    "# model_name = \"bert-base-chinese\"\n",
    "model_type = \"roberta\"\n",
    "model_name = \"roberta-base\"\n",
    "\n",
    "\n",
    "# Optional model configuration\n",
    "model_args = ClassificationArgs(num_train_epochs=1)\n",
    "\n",
    "# Create a ClassificationModel\n",
    "model = ClassificationModel(model_type, model_name, use_cuda=torch.cuda.is_available())"
   ]
  },
  {
   "cell_type": "code",
   "execution_count": 8,
   "metadata": {},
   "outputs": [
    {
     "data": {
      "text/plain": [
       "True"
      ]
     },
     "execution_count": 8,
     "metadata": {},
     "output_type": "execute_result"
    }
   ],
   "source": [
    "torch.cuda.is_available()"
   ]
  },
  {
   "cell_type": "code",
   "execution_count": null,
   "metadata": {
    "colab": {
     "base_uri": "https://localhost:8080/",
     "height": 204,
     "referenced_widgets": [
      "c8fd2a23b91741daa2d1bed9b7ed104d",
      "4142c147d7cc4ac6950648747d57356a",
      "399c09e163724fd8b4970d3ecde988a3",
      "1caf9149e7804bd68facb91f1f5cf0c7",
      "df34b38e9dd042aaa739b70e1b1cec14",
      "ecbfe48f19ee4d3b9e43efe290b3dae4",
      "1fc19bd0f4de41ffbf2bc8eca3dbb7eb",
      "e3e48095c2b84b87b8f0bdbcbd853e79",
      "6cd64f237d0d42d59cc0e2952181a30c",
      "de55cfc357b34f51994e5ba66383c7fe",
      "1156c38ec6a041aeb8ee96d2f1dc2245",
      "e8581f308b3547f5b53c288bd9d77eee",
      "e2bf194f7c5f400a917829e74a3e2587",
      "2106031e8aab42359ab5ab9c394041cc",
      "482069fea4ad4beba85a65337d824820",
      "a8506664b8474f9f99c27ab815ddb8d6",
      "6a72d8845f3b4c528bf11a2b20363166",
      "051a91485b134e1486ceeb8685ad9a09",
      "2b7430b723564b57830a0002b05b50f2",
      "f14e8f45f93c4a6f86120f800c600f03",
      "feb10d5b0a914be9ab7a45e67ec7671e",
      "ef8d8385866941fdba69fdce91593ba8",
      "c625b49f44c844dea8a175d672e257e8",
      "9d702bbf8c0043adb461dafc56f5a0ea",
      "b958f0d2444f423ea161c2463b79854f",
      "517c3bd47570432d8ff49a2f744bf7da",
      "fa944f32b7314bd5adbe6d20e61d2cec",
      "2802920f0c564e25bd181969f2eec668",
      "aeb9c3f4dfdd4e7c99b09d4de1988b03",
      "d7fa165aa74c47859094ba6bddb08f58",
      "872da83a048f42bca827bb41fc5dd8a3",
      "078e721178cf4a39a54b94fceb13cd9e",
      "14270d0b09ea424cba855208847b365f"
     ]
    },
    "id": "QR3VlpuCGfKy",
    "outputId": "3f86a9df-b8da-4d44-bbcb-28e9d857da8f"
   },
   "outputs": [
    {
     "name": "stderr",
     "output_type": "stream",
     "text": [
      "INFO:simpletransformers.classification.classification_utils: Converting to features started. Cache is not used.\n"
     ]
    },
    {
     "data": {
      "application/vnd.jupyter.widget-view+json": {
       "model_id": "13b4a8f1e82b4964bbc972f5fdbec685",
       "version_major": 2,
       "version_minor": 0
      },
      "text/plain": [
       "  0%|          | 0/5000 [00:00<?, ?it/s]"
      ]
     },
     "metadata": {},
     "output_type": "display_data"
    }
   ],
   "source": [
    "# Train the model\n",
    "model.train_model(train_df)"
   ]
  },
  {
   "cell_type": "code",
   "execution_count": null,
   "metadata": {
    "id": "iX-3LRPtGgnq"
   },
   "outputs": [],
   "source": [
    "# Evaluate the model\n",
    "result, model_outputs, wrong_predictions = model.eval_model(\n",
    "    eval_df\n",
    ")"
   ]
  },
  {
   "cell_type": "code",
   "execution_count": null,
   "metadata": {
    "id": "XsnYW2adslZx"
   },
   "outputs": [],
   "source": [
    "# Make predictions with the model\n",
    "predictions, raw_outputs = model.predict(test_data)"
   ]
  },
  {
   "cell_type": "code",
   "execution_count": null,
   "metadata": {
    "id": "XH64ImdTtXtf"
   },
   "outputs": [],
   "source": [
    "# predictions"
   ]
  },
  {
   "cell_type": "code",
   "execution_count": null,
   "metadata": {
    "id": "-2dS9MSNwXVw"
   },
   "outputs": [],
   "source": [
    "# raw_outputs"
   ]
  },
  {
   "cell_type": "code",
   "execution_count": null,
   "metadata": {
    "id": "ZR1_U3Gctb21"
   },
   "outputs": [],
   "source": [
    "with open('result/' + corpus_path + '.tsv', 'w') as out_file:\n",
    "    tsv_writer = csv.writer(out_file, delimiter='\\t')\n",
    "    tsv_writer.writerow(['index', 'prediction'])\n",
    "    for i in range(len(predictions)):\n",
    "        tsv_writer.writerow([str(i), str(predictions[i])])"
   ]
  },
  {
   "cell_type": "code",
   "execution_count": null,
   "metadata": {
    "id": "WM9YGKyzOv31"
   },
   "outputs": [],
   "source": []
  },
  {
   "cell_type": "code",
   "execution_count": null,
   "metadata": {
    "id": "wvo4_zdKPjKz"
   },
   "outputs": [],
   "source": []
  },
  {
   "cell_type": "code",
   "execution_count": null,
   "metadata": {
    "id": "rWccNKZ8RAUS"
   },
   "outputs": [],
   "source": []
  },
  {
   "cell_type": "code",
   "execution_count": null,
   "metadata": {
    "id": "2WpANXkERAR6"
   },
   "outputs": [],
   "source": []
  },
  {
   "cell_type": "code",
   "execution_count": null,
   "metadata": {
    "id": "zroSq8q3RAOx"
   },
   "outputs": [],
   "source": []
  },
  {
   "cell_type": "code",
   "execution_count": null,
   "metadata": {
    "id": "uLb0PBpVRAIx"
   },
   "outputs": [],
   "source": []
  },
  {
   "cell_type": "code",
   "execution_count": null,
   "metadata": {
    "id": "H3VSfma9RAF8"
   },
   "outputs": [],
   "source": []
  },
  {
   "cell_type": "code",
   "execution_count": null,
   "metadata": {
    "id": "yoEJxR8oPjFQ"
   },
   "outputs": [],
   "source": []
  },
  {
   "cell_type": "code",
   "execution_count": null,
   "metadata": {
    "id": "YUTtjOmVPjCg"
   },
   "outputs": [],
   "source": []
  },
  {
   "cell_type": "code",
   "execution_count": null,
   "metadata": {
    "id": "OR2RiUPSOv1S"
   },
   "outputs": [],
   "source": [
    "# model_type = \"roberta\"\n",
    "# # model_name = \"outputs/checkpoint-12500-epoch-1\"\n",
    "# model_name = \"roberta-base\"\n",
    "# import torch\n",
    "\n",
    "# # Optional model configuration\n",
    "# model_args = ClassificationArgs(num_train_epochs=1)\n",
    "\n",
    "# # Create a ClassificationModel\n",
    "# model = ClassificationModel(model_type, model_name, use_cuda=torch.cuda.is_available())"
   ]
  },
  {
   "cell_type": "code",
   "execution_count": null,
   "metadata": {
    "id": "qMthwngXOvy9"
   },
   "outputs": [],
   "source": [
    "\n",
    "\n",
    "# # Train the model\n",
    "# # model.train_model(train_df)\n",
    "\n",
    "# # Evaluate the model\n",
    "# result, model_outputs, wrong_predictions = model.eval_model(\n",
    "#     eval_df\n",
    "# )\n",
    "\n",
    "\n"
   ]
  },
  {
   "cell_type": "code",
   "execution_count": null,
   "metadata": {
    "id": "IDSEhgxSOvwL"
   },
   "outputs": [],
   "source": [
    "# # Make predictions with the model\n",
    "# predictions, raw_outputs = model.predict(test_data)"
   ]
  },
  {
   "cell_type": "code",
   "execution_count": null,
   "metadata": {
    "id": "gnbe1QKYOvt6"
   },
   "outputs": [],
   "source": [
    "# predictions"
   ]
  },
  {
   "cell_type": "code",
   "execution_count": null,
   "metadata": {
    "id": "Vbh1I9WpOvpP"
   },
   "outputs": [],
   "source": [
    "# raw_outputs"
   ]
  }
 ],
 "metadata": {
  "accelerator": "GPU",
  "colab": {
   "collapsed_sections": [],
   "name": "simple_transformer.ipynb",
   "provenance": []
  },
  "interpreter": {
   "hash": "b82764f8568d3e731c1a8fca5041e2084a073129ef40aeb754987146397fb09b"
  },
  "kernelspec": {
   "display_name": "Python 3 (ipykernel)",
   "language": "python",
   "name": "python3"
  },
  "language_info": {
   "codemirror_mode": {
    "name": "ipython",
    "version": 3
   },
   "file_extension": ".py",
   "mimetype": "text/x-python",
   "name": "python",
   "nbconvert_exporter": "python",
   "pygments_lexer": "ipython3",
   "version": "3.9.7"
  },
  "widgets": {
   "application/vnd.jupyter.widget-state+json": {
    "051a91485b134e1486ceeb8685ad9a09": {
     "model_module": "@jupyter-widgets/controls",
     "model_module_version": "1.5.0",
     "model_name": "DescriptionStyleModel",
     "state": {
      "_model_module": "@jupyter-widgets/controls",
      "_model_module_version": "1.5.0",
      "_model_name": "DescriptionStyleModel",
      "_view_count": null,
      "_view_module": "@jupyter-widgets/base",
      "_view_module_version": "1.2.0",
      "_view_name": "StyleView",
      "description_width": ""
     }
    },
    "078e721178cf4a39a54b94fceb13cd9e": {
     "model_module": "@jupyter-widgets/base",
     "model_module_version": "1.2.0",
     "model_name": "LayoutModel",
     "state": {
      "_model_module": "@jupyter-widgets/base",
      "_model_module_version": "1.2.0",
      "_model_name": "LayoutModel",
      "_view_count": null,
      "_view_module": "@jupyter-widgets/base",
      "_view_module_version": "1.2.0",
      "_view_name": "LayoutView",
      "align_content": null,
      "align_items": null,
      "align_self": null,
      "border": null,
      "bottom": null,
      "display": null,
      "flex": null,
      "flex_flow": null,
      "grid_area": null,
      "grid_auto_columns": null,
      "grid_auto_flow": null,
      "grid_auto_rows": null,
      "grid_column": null,
      "grid_gap": null,
      "grid_row": null,
      "grid_template_areas": null,
      "grid_template_columns": null,
      "grid_template_rows": null,
      "height": null,
      "justify_content": null,
      "justify_items": null,
      "left": null,
      "margin": null,
      "max_height": null,
      "max_width": null,
      "min_height": null,
      "min_width": null,
      "object_fit": null,
      "object_position": null,
      "order": null,
      "overflow": null,
      "overflow_x": null,
      "overflow_y": null,
      "padding": null,
      "right": null,
      "top": null,
      "visibility": null,
      "width": null
     }
    },
    "1156c38ec6a041aeb8ee96d2f1dc2245": {
     "model_module": "@jupyter-widgets/controls",
     "model_module_version": "1.5.0",
     "model_name": "DescriptionStyleModel",
     "state": {
      "_model_module": "@jupyter-widgets/controls",
      "_model_module_version": "1.5.0",
      "_model_name": "DescriptionStyleModel",
      "_view_count": null,
      "_view_module": "@jupyter-widgets/base",
      "_view_module_version": "1.2.0",
      "_view_name": "StyleView",
      "description_width": ""
     }
    },
    "14270d0b09ea424cba855208847b365f": {
     "model_module": "@jupyter-widgets/controls",
     "model_module_version": "1.5.0",
     "model_name": "DescriptionStyleModel",
     "state": {
      "_model_module": "@jupyter-widgets/controls",
      "_model_module_version": "1.5.0",
      "_model_name": "DescriptionStyleModel",
      "_view_count": null,
      "_view_module": "@jupyter-widgets/base",
      "_view_module_version": "1.2.0",
      "_view_name": "StyleView",
      "description_width": ""
     }
    },
    "1caf9149e7804bd68facb91f1f5cf0c7": {
     "model_module": "@jupyter-widgets/controls",
     "model_module_version": "1.5.0",
     "model_name": "HTMLModel",
     "state": {
      "_dom_classes": [],
      "_model_module": "@jupyter-widgets/controls",
      "_model_module_version": "1.5.0",
      "_model_name": "HTMLModel",
      "_view_count": null,
      "_view_module": "@jupyter-widgets/controls",
      "_view_module_version": "1.5.0",
      "_view_name": "HTMLView",
      "description": "",
      "description_tooltip": null,
      "layout": "IPY_MODEL_de55cfc357b34f51994e5ba66383c7fe",
      "placeholder": "​",
      "style": "IPY_MODEL_1156c38ec6a041aeb8ee96d2f1dc2245",
      "value": " 478/238766 [00:46&lt;6:24:57, 10.32it/s]"
     }
    },
    "1fc19bd0f4de41ffbf2bc8eca3dbb7eb": {
     "model_module": "@jupyter-widgets/controls",
     "model_module_version": "1.5.0",
     "model_name": "DescriptionStyleModel",
     "state": {
      "_model_module": "@jupyter-widgets/controls",
      "_model_module_version": "1.5.0",
      "_model_name": "DescriptionStyleModel",
      "_view_count": null,
      "_view_module": "@jupyter-widgets/base",
      "_view_module_version": "1.2.0",
      "_view_name": "StyleView",
      "description_width": ""
     }
    },
    "2106031e8aab42359ab5ab9c394041cc": {
     "model_module": "@jupyter-widgets/controls",
     "model_module_version": "1.5.0",
     "model_name": "FloatProgressModel",
     "state": {
      "_dom_classes": [],
      "_model_module": "@jupyter-widgets/controls",
      "_model_module_version": "1.5.0",
      "_model_name": "FloatProgressModel",
      "_view_count": null,
      "_view_module": "@jupyter-widgets/controls",
      "_view_module_version": "1.5.0",
      "_view_name": "ProgressView",
      "bar_style": "",
      "description": "",
      "description_tooltip": null,
      "layout": "IPY_MODEL_2b7430b723564b57830a0002b05b50f2",
      "max": 1,
      "min": 0,
      "orientation": "horizontal",
      "style": "IPY_MODEL_f14e8f45f93c4a6f86120f800c600f03",
      "value": 0
     }
    },
    "2802920f0c564e25bd181969f2eec668": {
     "model_module": "@jupyter-widgets/base",
     "model_module_version": "1.2.0",
     "model_name": "LayoutModel",
     "state": {
      "_model_module": "@jupyter-widgets/base",
      "_model_module_version": "1.2.0",
      "_model_name": "LayoutModel",
      "_view_count": null,
      "_view_module": "@jupyter-widgets/base",
      "_view_module_version": "1.2.0",
      "_view_name": "LayoutView",
      "align_content": null,
      "align_items": null,
      "align_self": null,
      "border": null,
      "bottom": null,
      "display": null,
      "flex": null,
      "flex_flow": null,
      "grid_area": null,
      "grid_auto_columns": null,
      "grid_auto_flow": null,
      "grid_auto_rows": null,
      "grid_column": null,
      "grid_gap": null,
      "grid_row": null,
      "grid_template_areas": null,
      "grid_template_columns": null,
      "grid_template_rows": null,
      "height": null,
      "justify_content": null,
      "justify_items": null,
      "left": null,
      "margin": null,
      "max_height": null,
      "max_width": null,
      "min_height": null,
      "min_width": null,
      "object_fit": null,
      "object_position": null,
      "order": null,
      "overflow": null,
      "overflow_x": null,
      "overflow_y": null,
      "padding": null,
      "right": null,
      "top": null,
      "visibility": null,
      "width": null
     }
    },
    "2b7430b723564b57830a0002b05b50f2": {
     "model_module": "@jupyter-widgets/base",
     "model_module_version": "1.2.0",
     "model_name": "LayoutModel",
     "state": {
      "_model_module": "@jupyter-widgets/base",
      "_model_module_version": "1.2.0",
      "_model_name": "LayoutModel",
      "_view_count": null,
      "_view_module": "@jupyter-widgets/base",
      "_view_module_version": "1.2.0",
      "_view_name": "LayoutView",
      "align_content": null,
      "align_items": null,
      "align_self": null,
      "border": null,
      "bottom": null,
      "display": null,
      "flex": null,
      "flex_flow": null,
      "grid_area": null,
      "grid_auto_columns": null,
      "grid_auto_flow": null,
      "grid_auto_rows": null,
      "grid_column": null,
      "grid_gap": null,
      "grid_row": null,
      "grid_template_areas": null,
      "grid_template_columns": null,
      "grid_template_rows": null,
      "height": null,
      "justify_content": null,
      "justify_items": null,
      "left": null,
      "margin": null,
      "max_height": null,
      "max_width": null,
      "min_height": null,
      "min_width": null,
      "object_fit": null,
      "object_position": null,
      "order": null,
      "overflow": null,
      "overflow_x": null,
      "overflow_y": null,
      "padding": null,
      "right": null,
      "top": null,
      "visibility": null,
      "width": null
     }
    },
    "399c09e163724fd8b4970d3ecde988a3": {
     "model_module": "@jupyter-widgets/controls",
     "model_module_version": "1.5.0",
     "model_name": "FloatProgressModel",
     "state": {
      "_dom_classes": [],
      "_model_module": "@jupyter-widgets/controls",
      "_model_module_version": "1.5.0",
      "_model_name": "FloatProgressModel",
      "_view_count": null,
      "_view_module": "@jupyter-widgets/controls",
      "_view_module_version": "1.5.0",
      "_view_name": "ProgressView",
      "bar_style": "danger",
      "description": "",
      "description_tooltip": null,
      "layout": "IPY_MODEL_e3e48095c2b84b87b8f0bdbcbd853e79",
      "max": 238766,
      "min": 0,
      "orientation": "horizontal",
      "style": "IPY_MODEL_6cd64f237d0d42d59cc0e2952181a30c",
      "value": 478
     }
    },
    "4142c147d7cc4ac6950648747d57356a": {
     "model_module": "@jupyter-widgets/controls",
     "model_module_version": "1.5.0",
     "model_name": "HTMLModel",
     "state": {
      "_dom_classes": [],
      "_model_module": "@jupyter-widgets/controls",
      "_model_module_version": "1.5.0",
      "_model_name": "HTMLModel",
      "_view_count": null,
      "_view_module": "@jupyter-widgets/controls",
      "_view_module_version": "1.5.0",
      "_view_name": "HTMLView",
      "description": "",
      "description_tooltip": null,
      "layout": "IPY_MODEL_ecbfe48f19ee4d3b9e43efe290b3dae4",
      "placeholder": "​",
      "style": "IPY_MODEL_1fc19bd0f4de41ffbf2bc8eca3dbb7eb",
      "value": "  0%"
     }
    },
    "482069fea4ad4beba85a65337d824820": {
     "model_module": "@jupyter-widgets/controls",
     "model_module_version": "1.5.0",
     "model_name": "HTMLModel",
     "state": {
      "_dom_classes": [],
      "_model_module": "@jupyter-widgets/controls",
      "_model_module_version": "1.5.0",
      "_model_name": "HTMLModel",
      "_view_count": null,
      "_view_module": "@jupyter-widgets/controls",
      "_view_module_version": "1.5.0",
      "_view_name": "HTMLView",
      "description": "",
      "description_tooltip": null,
      "layout": "IPY_MODEL_feb10d5b0a914be9ab7a45e67ec7671e",
      "placeholder": "​",
      "style": "IPY_MODEL_ef8d8385866941fdba69fdce91593ba8",
      "value": " 0/1 [00:00&lt;?, ?it/s]"
     }
    },
    "517c3bd47570432d8ff49a2f744bf7da": {
     "model_module": "@jupyter-widgets/controls",
     "model_module_version": "1.5.0",
     "model_name": "HTMLModel",
     "state": {
      "_dom_classes": [],
      "_model_module": "@jupyter-widgets/controls",
      "_model_module_version": "1.5.0",
      "_model_name": "HTMLModel",
      "_view_count": null,
      "_view_module": "@jupyter-widgets/controls",
      "_view_module_version": "1.5.0",
      "_view_name": "HTMLView",
      "description": "",
      "description_tooltip": null,
      "layout": "IPY_MODEL_078e721178cf4a39a54b94fceb13cd9e",
      "placeholder": "​",
      "style": "IPY_MODEL_14270d0b09ea424cba855208847b365f",
      "value": " 7120/29846 [1:35:20&lt;5:03:59,  1.25it/s]"
     }
    },
    "6a72d8845f3b4c528bf11a2b20363166": {
     "model_module": "@jupyter-widgets/base",
     "model_module_version": "1.2.0",
     "model_name": "LayoutModel",
     "state": {
      "_model_module": "@jupyter-widgets/base",
      "_model_module_version": "1.2.0",
      "_model_name": "LayoutModel",
      "_view_count": null,
      "_view_module": "@jupyter-widgets/base",
      "_view_module_version": "1.2.0",
      "_view_name": "LayoutView",
      "align_content": null,
      "align_items": null,
      "align_self": null,
      "border": null,
      "bottom": null,
      "display": null,
      "flex": null,
      "flex_flow": null,
      "grid_area": null,
      "grid_auto_columns": null,
      "grid_auto_flow": null,
      "grid_auto_rows": null,
      "grid_column": null,
      "grid_gap": null,
      "grid_row": null,
      "grid_template_areas": null,
      "grid_template_columns": null,
      "grid_template_rows": null,
      "height": null,
      "justify_content": null,
      "justify_items": null,
      "left": null,
      "margin": null,
      "max_height": null,
      "max_width": null,
      "min_height": null,
      "min_width": null,
      "object_fit": null,
      "object_position": null,
      "order": null,
      "overflow": null,
      "overflow_x": null,
      "overflow_y": null,
      "padding": null,
      "right": null,
      "top": null,
      "visibility": null,
      "width": null
     }
    },
    "6cd64f237d0d42d59cc0e2952181a30c": {
     "model_module": "@jupyter-widgets/controls",
     "model_module_version": "1.5.0",
     "model_name": "ProgressStyleModel",
     "state": {
      "_model_module": "@jupyter-widgets/controls",
      "_model_module_version": "1.5.0",
      "_model_name": "ProgressStyleModel",
      "_view_count": null,
      "_view_module": "@jupyter-widgets/base",
      "_view_module_version": "1.2.0",
      "_view_name": "StyleView",
      "bar_color": null,
      "description_width": ""
     }
    },
    "872da83a048f42bca827bb41fc5dd8a3": {
     "model_module": "@jupyter-widgets/controls",
     "model_module_version": "1.5.0",
     "model_name": "ProgressStyleModel",
     "state": {
      "_model_module": "@jupyter-widgets/controls",
      "_model_module_version": "1.5.0",
      "_model_name": "ProgressStyleModel",
      "_view_count": null,
      "_view_module": "@jupyter-widgets/base",
      "_view_module_version": "1.2.0",
      "_view_name": "StyleView",
      "bar_color": null,
      "description_width": ""
     }
    },
    "9d702bbf8c0043adb461dafc56f5a0ea": {
     "model_module": "@jupyter-widgets/controls",
     "model_module_version": "1.5.0",
     "model_name": "HTMLModel",
     "state": {
      "_dom_classes": [],
      "_model_module": "@jupyter-widgets/controls",
      "_model_module_version": "1.5.0",
      "_model_name": "HTMLModel",
      "_view_count": null,
      "_view_module": "@jupyter-widgets/controls",
      "_view_module_version": "1.5.0",
      "_view_name": "HTMLView",
      "description": "",
      "description_tooltip": null,
      "layout": "IPY_MODEL_2802920f0c564e25bd181969f2eec668",
      "placeholder": "​",
      "style": "IPY_MODEL_aeb9c3f4dfdd4e7c99b09d4de1988b03",
      "value": "Epochs 0/1. Running Loss:    0.0295:  24%"
     }
    },
    "a8506664b8474f9f99c27ab815ddb8d6": {
     "model_module": "@jupyter-widgets/base",
     "model_module_version": "1.2.0",
     "model_name": "LayoutModel",
     "state": {
      "_model_module": "@jupyter-widgets/base",
      "_model_module_version": "1.2.0",
      "_model_name": "LayoutModel",
      "_view_count": null,
      "_view_module": "@jupyter-widgets/base",
      "_view_module_version": "1.2.0",
      "_view_name": "LayoutView",
      "align_content": null,
      "align_items": null,
      "align_self": null,
      "border": null,
      "bottom": null,
      "display": null,
      "flex": null,
      "flex_flow": null,
      "grid_area": null,
      "grid_auto_columns": null,
      "grid_auto_flow": null,
      "grid_auto_rows": null,
      "grid_column": null,
      "grid_gap": null,
      "grid_row": null,
      "grid_template_areas": null,
      "grid_template_columns": null,
      "grid_template_rows": null,
      "height": null,
      "justify_content": null,
      "justify_items": null,
      "left": null,
      "margin": null,
      "max_height": null,
      "max_width": null,
      "min_height": null,
      "min_width": null,
      "object_fit": null,
      "object_position": null,
      "order": null,
      "overflow": null,
      "overflow_x": null,
      "overflow_y": null,
      "padding": null,
      "right": null,
      "top": null,
      "visibility": null,
      "width": null
     }
    },
    "aeb9c3f4dfdd4e7c99b09d4de1988b03": {
     "model_module": "@jupyter-widgets/controls",
     "model_module_version": "1.5.0",
     "model_name": "DescriptionStyleModel",
     "state": {
      "_model_module": "@jupyter-widgets/controls",
      "_model_module_version": "1.5.0",
      "_model_name": "DescriptionStyleModel",
      "_view_count": null,
      "_view_module": "@jupyter-widgets/base",
      "_view_module_version": "1.2.0",
      "_view_name": "StyleView",
      "description_width": ""
     }
    },
    "b958f0d2444f423ea161c2463b79854f": {
     "model_module": "@jupyter-widgets/controls",
     "model_module_version": "1.5.0",
     "model_name": "FloatProgressModel",
     "state": {
      "_dom_classes": [],
      "_model_module": "@jupyter-widgets/controls",
      "_model_module_version": "1.5.0",
      "_model_name": "FloatProgressModel",
      "_view_count": null,
      "_view_module": "@jupyter-widgets/controls",
      "_view_module_version": "1.5.0",
      "_view_name": "ProgressView",
      "bar_style": "",
      "description": "",
      "description_tooltip": null,
      "layout": "IPY_MODEL_d7fa165aa74c47859094ba6bddb08f58",
      "max": 29846,
      "min": 0,
      "orientation": "horizontal",
      "style": "IPY_MODEL_872da83a048f42bca827bb41fc5dd8a3",
      "value": 7120
     }
    },
    "c625b49f44c844dea8a175d672e257e8": {
     "model_module": "@jupyter-widgets/controls",
     "model_module_version": "1.5.0",
     "model_name": "HBoxModel",
     "state": {
      "_dom_classes": [],
      "_model_module": "@jupyter-widgets/controls",
      "_model_module_version": "1.5.0",
      "_model_name": "HBoxModel",
      "_view_count": null,
      "_view_module": "@jupyter-widgets/controls",
      "_view_module_version": "1.5.0",
      "_view_name": "HBoxView",
      "box_style": "",
      "children": [
       "IPY_MODEL_9d702bbf8c0043adb461dafc56f5a0ea",
       "IPY_MODEL_b958f0d2444f423ea161c2463b79854f",
       "IPY_MODEL_517c3bd47570432d8ff49a2f744bf7da"
      ],
      "layout": "IPY_MODEL_fa944f32b7314bd5adbe6d20e61d2cec"
     }
    },
    "c8fd2a23b91741daa2d1bed9b7ed104d": {
     "model_module": "@jupyter-widgets/controls",
     "model_module_version": "1.5.0",
     "model_name": "HBoxModel",
     "state": {
      "_dom_classes": [],
      "_model_module": "@jupyter-widgets/controls",
      "_model_module_version": "1.5.0",
      "_model_name": "HBoxModel",
      "_view_count": null,
      "_view_module": "@jupyter-widgets/controls",
      "_view_module_version": "1.5.0",
      "_view_name": "HBoxView",
      "box_style": "",
      "children": [
       "IPY_MODEL_4142c147d7cc4ac6950648747d57356a",
       "IPY_MODEL_399c09e163724fd8b4970d3ecde988a3",
       "IPY_MODEL_1caf9149e7804bd68facb91f1f5cf0c7"
      ],
      "layout": "IPY_MODEL_df34b38e9dd042aaa739b70e1b1cec14"
     }
    },
    "d7fa165aa74c47859094ba6bddb08f58": {
     "model_module": "@jupyter-widgets/base",
     "model_module_version": "1.2.0",
     "model_name": "LayoutModel",
     "state": {
      "_model_module": "@jupyter-widgets/base",
      "_model_module_version": "1.2.0",
      "_model_name": "LayoutModel",
      "_view_count": null,
      "_view_module": "@jupyter-widgets/base",
      "_view_module_version": "1.2.0",
      "_view_name": "LayoutView",
      "align_content": null,
      "align_items": null,
      "align_self": null,
      "border": null,
      "bottom": null,
      "display": null,
      "flex": null,
      "flex_flow": null,
      "grid_area": null,
      "grid_auto_columns": null,
      "grid_auto_flow": null,
      "grid_auto_rows": null,
      "grid_column": null,
      "grid_gap": null,
      "grid_row": null,
      "grid_template_areas": null,
      "grid_template_columns": null,
      "grid_template_rows": null,
      "height": null,
      "justify_content": null,
      "justify_items": null,
      "left": null,
      "margin": null,
      "max_height": null,
      "max_width": null,
      "min_height": null,
      "min_width": null,
      "object_fit": null,
      "object_position": null,
      "order": null,
      "overflow": null,
      "overflow_x": null,
      "overflow_y": null,
      "padding": null,
      "right": null,
      "top": null,
      "visibility": null,
      "width": null
     }
    },
    "de55cfc357b34f51994e5ba66383c7fe": {
     "model_module": "@jupyter-widgets/base",
     "model_module_version": "1.2.0",
     "model_name": "LayoutModel",
     "state": {
      "_model_module": "@jupyter-widgets/base",
      "_model_module_version": "1.2.0",
      "_model_name": "LayoutModel",
      "_view_count": null,
      "_view_module": "@jupyter-widgets/base",
      "_view_module_version": "1.2.0",
      "_view_name": "LayoutView",
      "align_content": null,
      "align_items": null,
      "align_self": null,
      "border": null,
      "bottom": null,
      "display": null,
      "flex": null,
      "flex_flow": null,
      "grid_area": null,
      "grid_auto_columns": null,
      "grid_auto_flow": null,
      "grid_auto_rows": null,
      "grid_column": null,
      "grid_gap": null,
      "grid_row": null,
      "grid_template_areas": null,
      "grid_template_columns": null,
      "grid_template_rows": null,
      "height": null,
      "justify_content": null,
      "justify_items": null,
      "left": null,
      "margin": null,
      "max_height": null,
      "max_width": null,
      "min_height": null,
      "min_width": null,
      "object_fit": null,
      "object_position": null,
      "order": null,
      "overflow": null,
      "overflow_x": null,
      "overflow_y": null,
      "padding": null,
      "right": null,
      "top": null,
      "visibility": null,
      "width": null
     }
    },
    "df34b38e9dd042aaa739b70e1b1cec14": {
     "model_module": "@jupyter-widgets/base",
     "model_module_version": "1.2.0",
     "model_name": "LayoutModel",
     "state": {
      "_model_module": "@jupyter-widgets/base",
      "_model_module_version": "1.2.0",
      "_model_name": "LayoutModel",
      "_view_count": null,
      "_view_module": "@jupyter-widgets/base",
      "_view_module_version": "1.2.0",
      "_view_name": "LayoutView",
      "align_content": null,
      "align_items": null,
      "align_self": null,
      "border": null,
      "bottom": null,
      "display": null,
      "flex": null,
      "flex_flow": null,
      "grid_area": null,
      "grid_auto_columns": null,
      "grid_auto_flow": null,
      "grid_auto_rows": null,
      "grid_column": null,
      "grid_gap": null,
      "grid_row": null,
      "grid_template_areas": null,
      "grid_template_columns": null,
      "grid_template_rows": null,
      "height": null,
      "justify_content": null,
      "justify_items": null,
      "left": null,
      "margin": null,
      "max_height": null,
      "max_width": null,
      "min_height": null,
      "min_width": null,
      "object_fit": null,
      "object_position": null,
      "order": null,
      "overflow": null,
      "overflow_x": null,
      "overflow_y": null,
      "padding": null,
      "right": null,
      "top": null,
      "visibility": null,
      "width": null
     }
    },
    "e2bf194f7c5f400a917829e74a3e2587": {
     "model_module": "@jupyter-widgets/controls",
     "model_module_version": "1.5.0",
     "model_name": "HTMLModel",
     "state": {
      "_dom_classes": [],
      "_model_module": "@jupyter-widgets/controls",
      "_model_module_version": "1.5.0",
      "_model_name": "HTMLModel",
      "_view_count": null,
      "_view_module": "@jupyter-widgets/controls",
      "_view_module_version": "1.5.0",
      "_view_name": "HTMLView",
      "description": "",
      "description_tooltip": null,
      "layout": "IPY_MODEL_6a72d8845f3b4c528bf11a2b20363166",
      "placeholder": "​",
      "style": "IPY_MODEL_051a91485b134e1486ceeb8685ad9a09",
      "value": "Epoch 1 of 1:   0%"
     }
    },
    "e3e48095c2b84b87b8f0bdbcbd853e79": {
     "model_module": "@jupyter-widgets/base",
     "model_module_version": "1.2.0",
     "model_name": "LayoutModel",
     "state": {
      "_model_module": "@jupyter-widgets/base",
      "_model_module_version": "1.2.0",
      "_model_name": "LayoutModel",
      "_view_count": null,
      "_view_module": "@jupyter-widgets/base",
      "_view_module_version": "1.2.0",
      "_view_name": "LayoutView",
      "align_content": null,
      "align_items": null,
      "align_self": null,
      "border": null,
      "bottom": null,
      "display": null,
      "flex": null,
      "flex_flow": null,
      "grid_area": null,
      "grid_auto_columns": null,
      "grid_auto_flow": null,
      "grid_auto_rows": null,
      "grid_column": null,
      "grid_gap": null,
      "grid_row": null,
      "grid_template_areas": null,
      "grid_template_columns": null,
      "grid_template_rows": null,
      "height": null,
      "justify_content": null,
      "justify_items": null,
      "left": null,
      "margin": null,
      "max_height": null,
      "max_width": null,
      "min_height": null,
      "min_width": null,
      "object_fit": null,
      "object_position": null,
      "order": null,
      "overflow": null,
      "overflow_x": null,
      "overflow_y": null,
      "padding": null,
      "right": null,
      "top": null,
      "visibility": null,
      "width": null
     }
    },
    "e8581f308b3547f5b53c288bd9d77eee": {
     "model_module": "@jupyter-widgets/controls",
     "model_module_version": "1.5.0",
     "model_name": "HBoxModel",
     "state": {
      "_dom_classes": [],
      "_model_module": "@jupyter-widgets/controls",
      "_model_module_version": "1.5.0",
      "_model_name": "HBoxModel",
      "_view_count": null,
      "_view_module": "@jupyter-widgets/controls",
      "_view_module_version": "1.5.0",
      "_view_name": "HBoxView",
      "box_style": "",
      "children": [
       "IPY_MODEL_e2bf194f7c5f400a917829e74a3e2587",
       "IPY_MODEL_2106031e8aab42359ab5ab9c394041cc",
       "IPY_MODEL_482069fea4ad4beba85a65337d824820"
      ],
      "layout": "IPY_MODEL_a8506664b8474f9f99c27ab815ddb8d6"
     }
    },
    "ecbfe48f19ee4d3b9e43efe290b3dae4": {
     "model_module": "@jupyter-widgets/base",
     "model_module_version": "1.2.0",
     "model_name": "LayoutModel",
     "state": {
      "_model_module": "@jupyter-widgets/base",
      "_model_module_version": "1.2.0",
      "_model_name": "LayoutModel",
      "_view_count": null,
      "_view_module": "@jupyter-widgets/base",
      "_view_module_version": "1.2.0",
      "_view_name": "LayoutView",
      "align_content": null,
      "align_items": null,
      "align_self": null,
      "border": null,
      "bottom": null,
      "display": null,
      "flex": null,
      "flex_flow": null,
      "grid_area": null,
      "grid_auto_columns": null,
      "grid_auto_flow": null,
      "grid_auto_rows": null,
      "grid_column": null,
      "grid_gap": null,
      "grid_row": null,
      "grid_template_areas": null,
      "grid_template_columns": null,
      "grid_template_rows": null,
      "height": null,
      "justify_content": null,
      "justify_items": null,
      "left": null,
      "margin": null,
      "max_height": null,
      "max_width": null,
      "min_height": null,
      "min_width": null,
      "object_fit": null,
      "object_position": null,
      "order": null,
      "overflow": null,
      "overflow_x": null,
      "overflow_y": null,
      "padding": null,
      "right": null,
      "top": null,
      "visibility": null,
      "width": null
     }
    },
    "ef8d8385866941fdba69fdce91593ba8": {
     "model_module": "@jupyter-widgets/controls",
     "model_module_version": "1.5.0",
     "model_name": "DescriptionStyleModel",
     "state": {
      "_model_module": "@jupyter-widgets/controls",
      "_model_module_version": "1.5.0",
      "_model_name": "DescriptionStyleModel",
      "_view_count": null,
      "_view_module": "@jupyter-widgets/base",
      "_view_module_version": "1.2.0",
      "_view_name": "StyleView",
      "description_width": ""
     }
    },
    "f14e8f45f93c4a6f86120f800c600f03": {
     "model_module": "@jupyter-widgets/controls",
     "model_module_version": "1.5.0",
     "model_name": "ProgressStyleModel",
     "state": {
      "_model_module": "@jupyter-widgets/controls",
      "_model_module_version": "1.5.0",
      "_model_name": "ProgressStyleModel",
      "_view_count": null,
      "_view_module": "@jupyter-widgets/base",
      "_view_module_version": "1.2.0",
      "_view_name": "StyleView",
      "bar_color": null,
      "description_width": ""
     }
    },
    "fa944f32b7314bd5adbe6d20e61d2cec": {
     "model_module": "@jupyter-widgets/base",
     "model_module_version": "1.2.0",
     "model_name": "LayoutModel",
     "state": {
      "_model_module": "@jupyter-widgets/base",
      "_model_module_version": "1.2.0",
      "_model_name": "LayoutModel",
      "_view_count": null,
      "_view_module": "@jupyter-widgets/base",
      "_view_module_version": "1.2.0",
      "_view_name": "LayoutView",
      "align_content": null,
      "align_items": null,
      "align_self": null,
      "border": null,
      "bottom": null,
      "display": null,
      "flex": null,
      "flex_flow": null,
      "grid_area": null,
      "grid_auto_columns": null,
      "grid_auto_flow": null,
      "grid_auto_rows": null,
      "grid_column": null,
      "grid_gap": null,
      "grid_row": null,
      "grid_template_areas": null,
      "grid_template_columns": null,
      "grid_template_rows": null,
      "height": null,
      "justify_content": null,
      "justify_items": null,
      "left": null,
      "margin": null,
      "max_height": null,
      "max_width": null,
      "min_height": null,
      "min_width": null,
      "object_fit": null,
      "object_position": null,
      "order": null,
      "overflow": null,
      "overflow_x": null,
      "overflow_y": null,
      "padding": null,
      "right": null,
      "top": null,
      "visibility": null,
      "width": null
     }
    },
    "feb10d5b0a914be9ab7a45e67ec7671e": {
     "model_module": "@jupyter-widgets/base",
     "model_module_version": "1.2.0",
     "model_name": "LayoutModel",
     "state": {
      "_model_module": "@jupyter-widgets/base",
      "_model_module_version": "1.2.0",
      "_model_name": "LayoutModel",
      "_view_count": null,
      "_view_module": "@jupyter-widgets/base",
      "_view_module_version": "1.2.0",
      "_view_name": "LayoutView",
      "align_content": null,
      "align_items": null,
      "align_self": null,
      "border": null,
      "bottom": null,
      "display": null,
      "flex": null,
      "flex_flow": null,
      "grid_area": null,
      "grid_auto_columns": null,
      "grid_auto_flow": null,
      "grid_auto_rows": null,
      "grid_column": null,
      "grid_gap": null,
      "grid_row": null,
      "grid_template_areas": null,
      "grid_template_columns": null,
      "grid_template_rows": null,
      "height": null,
      "justify_content": null,
      "justify_items": null,
      "left": null,
      "margin": null,
      "max_height": null,
      "max_width": null,
      "min_height": null,
      "min_width": null,
      "object_fit": null,
      "object_position": null,
      "order": null,
      "overflow": null,
      "overflow_x": null,
      "overflow_y": null,
      "padding": null,
      "right": null,
      "top": null,
      "visibility": null,
      "width": null
     }
    }
   }
  }
 },
 "nbformat": 4,
 "nbformat_minor": 4
}
