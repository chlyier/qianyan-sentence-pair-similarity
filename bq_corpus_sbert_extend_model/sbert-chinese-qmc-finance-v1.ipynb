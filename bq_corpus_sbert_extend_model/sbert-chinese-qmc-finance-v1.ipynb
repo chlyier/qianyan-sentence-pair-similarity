{
 "cells": [
  {
   "cell_type": "code",
   "execution_count": 2,
   "id": "244c996a-2cec-4477-8473-7254ec9a8468",
   "metadata": {},
   "outputs": [],
   "source": [
    "from sentence_transformers import SentenceTransformer\n",
    "from sklearn.metrics.pairwise import cosine_similarity\n",
    "from tqdm import tqdm\n",
    "import csv"
   ]
  },
  {
   "cell_type": "code",
   "execution_count": null,
   "id": "11a94e60-55bb-4983-a809-ea0458fb20b4",
   "metadata": {},
   "outputs": [],
   "source": [
    "model = SentenceTransformer('DMetaSoul/sbert-chinese-qmc-finance-v1')"
   ]
  },
  {
   "cell_type": "code",
   "execution_count": 3,
   "id": "bae91d1c-d18f-43af-b1d3-53951ba40d21",
   "metadata": {},
   "outputs": [
    {
     "name": "stderr",
     "output_type": "stream",
     "text": [
      "100%|████████████████████████████████████████████████████████████████████████████| 10000/10000 [08:36<00:00, 19.38it/s]\n"
     ]
    }
   ],
   "source": [
    "corpus_path = [\"data/bq_corpus/test.tsv\", \"data/lcqmc/test.tsv\", \"data/paws-x-zh/test.tsv\"]\n",
    "for path in corpus_path[:1]:\n",
    "    cls_result = []\n",
    "    test_pairs = open(path, encoding='utf-8').readlines()    \n",
    "    result_writer = open('result/' + path.split('/')[1] + '_result.tsv', 'w', encoding='utf-8')\n",
    "    \n",
    "    for i in tqdm(range(len(test_pairs))):\n",
    "        pair = test_pairs[i].split('\\t')\n",
    "\n",
    "        sentence_embeddings = model.encode(pair)\n",
    "        cossin = cosine_similarity(\n",
    "            sentence_embeddings[0:1],\n",
    "            sentence_embeddings[1:2]\n",
    "        )\n",
    "\n",
    "        if cossin > 0.5:\n",
    "            cls_result.append(1)\n",
    "        else:\n",
    "            cls_result.append(0)\n",
    "        result_writer.writelines([test_pairs[i][:-1] + '\\t' + str(cls_result[-1]) + '\\n'])\n",
    "\n",
    "    with open('result/' + path.split('/')[1] + \".tsv\", 'w') as out_file:\n",
    "        tsv_writer = csv.writer(out_file, delimiter='\\t')\n",
    "        tsv_writer.writerow(['index', 'prediction'])\n",
    "        for i in range(len(cls_result)):\n",
    "            tsv_writer.writerow([str(i), str(cls_result[i])])"
   ]
  },
  {
   "cell_type": "code",
   "execution_count": null,
   "id": "98f722db-1c4c-489e-bd1b-65f6a5b2cf5c",
   "metadata": {},
   "outputs": [],
   "source": []
  }
 ],
 "metadata": {
  "kernelspec": {
   "display_name": "Python 3 (ipykernel)",
   "language": "python",
   "name": "python3"
  },
  "language_info": {
   "codemirror_mode": {
    "name": "ipython",
    "version": 3
   },
   "file_extension": ".py",
   "mimetype": "text/x-python",
   "name": "python",
   "nbconvert_exporter": "python",
   "pygments_lexer": "ipython3",
   "version": "3.9.7"
  }
 },
 "nbformat": 4,
 "nbformat_minor": 5
}
