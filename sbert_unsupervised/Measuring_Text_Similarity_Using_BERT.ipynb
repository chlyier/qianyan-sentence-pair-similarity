{
 "cells": [
  {
   "cell_type": "markdown",
   "id": "c0f41df3-db63-495d-b56d-06c3a0b17f1f",
   "metadata": {},
   "source": [
    "thesis\n",
    "- Take a line of sentence, transform it into a vector.\n",
    "- Take various other penalties, and change them into vectors.\n",
    "- Spot sentences with the shortest distance (Euclidean) or tiniest angle (cosine similarity) among them.\n",
    "- We instantly get a standard of semantic similarity connecting sentences."
   ]
  },
  {
   "cell_type": "raw",
   "id": "a69ed166-99b4-4c11-b546-9a23e900cc27",
   "metadata": {
    "tags": []
   },
   "source": [
    "!pip install sentence_transformers"
   ]
  },
  {
   "cell_type": "code",
   "execution_count": 1,
   "id": "09165cbd-dff1-4b0d-a9cb-287da41ebb60",
   "metadata": {},
   "outputs": [],
   "source": [
    "from sentence_transformers import SentenceTransformer, util\n",
    "from tqdm import tqdm\n",
    "import csv"
   ]
  },
  {
   "cell_type": "code",
   "execution_count": null,
   "id": "2ec9623a-1375-4ff1-baf5-c6ab413e67a1",
   "metadata": {},
   "outputs": [
    {
     "data": {
      "application/vnd.jupyter.widget-view+json": {
       "model_id": "081e847043a54064a83d77c32f9f105d",
       "version_major": 2,
       "version_minor": 0
      },
      "text/plain": [
       "Downloading:   0%|          | 0.00/391 [00:00<?, ?B/s]"
      ]
     },
     "metadata": {},
     "output_type": "display_data"
    },
    {
     "data": {
      "application/vnd.jupyter.widget-view+json": {
       "model_id": "960486d7647f40beb3b78b1dd433e01a",
       "version_major": 2,
       "version_minor": 0
      },
      "text/plain": [
       "Downloading:   0%|          | 0.00/21.0 [00:00<?, ?B/s]"
      ]
     },
     "metadata": {},
     "output_type": "display_data"
    },
    {
     "data": {
      "application/vnd.jupyter.widget-view+json": {
       "model_id": "181b8ef66d324adaa14d916e95b58884",
       "version_major": 2,
       "version_minor": 0
      },
      "text/plain": [
       "Downloading:   0%|          | 0.00/624 [00:00<?, ?B/s]"
      ]
     },
     "metadata": {},
     "output_type": "display_data"
    },
    {
     "data": {
      "application/vnd.jupyter.widget-view+json": {
       "model_id": "17b1aaeae6ee4504b85fdfa26f33f5b1",
       "version_major": 2,
       "version_minor": 0
      },
      "text/plain": [
       "Downloading:   0%|          | 0.00/412M [00:00<?, ?B/s]"
      ]
     },
     "metadata": {},
     "output_type": "display_data"
    },
    {
     "data": {
      "application/vnd.jupyter.widget-view+json": {
       "model_id": "cd325f7f7afc494fa603893b2fa71cd1",
       "version_major": 2,
       "version_minor": 0
      },
      "text/plain": [
       "Downloading:   0%|          | 0.00/269k [00:00<?, ?B/s]"
      ]
     },
     "metadata": {},
     "output_type": "display_data"
    },
    {
     "data": {
      "application/vnd.jupyter.widget-view+json": {
       "model_id": "a0325af060e5401dbb07d93c2f7bfe1a",
       "version_major": 2,
       "version_minor": 0
      },
      "text/plain": [
       "Downloading:   0%|          | 0.00/29.0 [00:00<?, ?B/s]"
      ]
     },
     "metadata": {},
     "output_type": "display_data"
    },
    {
     "data": {
      "application/vnd.jupyter.widget-view+json": {
       "model_id": "c8c1dc458a014b48892f5a7b80102bbe",
       "version_major": 2,
       "version_minor": 0
      },
      "text/plain": [
       "Downloading:   0%|          | 0.00/110k [00:00<?, ?B/s]"
      ]
     },
     "metadata": {},
     "output_type": "display_data"
    },
    {
     "name": "stderr",
     "output_type": "stream",
     "text": [
      "WARNING:root:No sentence-transformers model found with name C:\\Users\\cc188/.cache\\torch\\sentence_transformers\\bert-base-chinese. Creating a new one with MEAN pooling.\n",
      "Some weights of the model checkpoint at C:\\Users\\cc188/.cache\\torch\\sentence_transformers\\bert-base-chinese were not used when initializing BertModel: ['cls.seq_relationship.weight', 'cls.predictions.transform.dense.weight', 'cls.seq_relationship.bias', 'cls.predictions.transform.LayerNorm.bias', 'cls.predictions.transform.LayerNorm.weight', 'cls.predictions.bias', 'cls.predictions.transform.dense.bias', 'cls.predictions.decoder.weight']\n",
      "- This IS expected if you are initializing BertModel from the checkpoint of a model trained on another task or with another architecture (e.g. initializing a BertForSequenceClassification model from a BertForPreTraining model).\n",
      "- This IS NOT expected if you are initializing BertModel from the checkpoint of a model that you expect to be exactly identical (initializing a BertForSequenceClassification model from a BertForSequenceClassification model).\n"
     ]
    }
   ],
   "source": [
    "model = SentenceTransformer('bert-base-chinese')"
   ]
  },
  {
   "cell_type": "code",
   "execution_count": null,
   "id": "aa14a02b-1e4f-4513-907c-c3c88ac06af1",
   "metadata": {},
   "outputs": [],
   "source": [
    "corpus_path = [\"data/bq_corpus/test.tsv\", \"data/lcqmc/test.tsv\", \"data/paws-x-zh/test.tsv\"]"
   ]
  },
  {
   "cell_type": "code",
   "execution_count": 11,
   "id": "f34c27d4-327b-4d5d-a7f6-a3b02c8b5c49",
   "metadata": {},
   "outputs": [
    {
     "name": "stderr",
     "output_type": "stream",
     "text": [
      "100%|██████████████████████████████████████████████████████████████████████████████| 2000/2000 [02:44<00:00, 12.18it/s]\n"
     ]
    }
   ],
   "source": [
    "for path in corpus_path[2:]:\n",
    "    cls_result = []\n",
    "    test_pairs = open(path, encoding='utf-8').readlines()    \n",
    "    \n",
    "    for i in tqdm(range(len(test_pairs))):\n",
    "        pair = test_pairs[i].split('\\t')\n",
    "\n",
    "        sentence_embeddings = model.encode(pair)\n",
    "        cossin = util.cos_sim(sentence_embeddings[0], sentence_embeddings[1])\n",
    "\n",
    "        if cossin > 0.5:\n",
    "            cls_result.append(1)\n",
    "        else:\n",
    "            cls_result.append(0)\n",
    "\n",
    "    with open('result/' + path.split('/')[1] + \".tsv\", 'w') as out_file:\n",
    "        tsv_writer = csv.writer(out_file, delimiter='\\t')\n",
    "        tsv_writer.writerow(['index', 'prediction'])\n",
    "        for i in range(len(cls_result)):\n",
    "            tsv_writer.writerow([str(i), str(cls_result[i])])"
   ]
  },
  {
   "cell_type": "code",
   "execution_count": null,
   "id": "cae2fdd4-ab9f-4a6f-abbb-3469a889149d",
   "metadata": {},
   "outputs": [],
   "source": []
  }
 ],
 "metadata": {
  "kernelspec": {
   "display_name": "Python 3 (ipykernel)",
   "language": "python",
   "name": "python3"
  },
  "language_info": {
   "codemirror_mode": {
    "name": "ipython",
    "version": 3
   },
   "file_extension": ".py",
   "mimetype": "text/x-python",
   "name": "python",
   "nbconvert_exporter": "python",
   "pygments_lexer": "ipython3",
   "version": "3.9.7"
  }
 },
 "nbformat": 4,
 "nbformat_minor": 5
}
