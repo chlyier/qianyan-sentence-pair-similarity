{
 "cells": [
  {
   "cell_type": "markdown",
   "id": "c0f41df3-db63-495d-b56d-06c3a0b17f1f",
   "metadata": {},
   "source": [
    "thesis\n",
    "- Take a line of sentence, transform it into a vector.\n",
    "- Take various other penalties, and change them into vectors.\n",
    "- Spot sentences with the shortest distance (Euclidean) or tiniest angle (cosine similarity) among them.\n",
    "- We instantly get a standard of semantic similarity connecting sentences."
   ]
  },
  {
   "cell_type": "raw",
   "id": "a69ed166-99b4-4c11-b546-9a23e900cc27",
   "metadata": {
    "tags": []
   },
   "source": [
    "!pip install sentence_transformers"
   ]
  },
  {
   "cell_type": "code",
   "execution_count": 1,
   "id": "09165cbd-dff1-4b0d-a9cb-287da41ebb60",
   "metadata": {},
   "outputs": [],
   "source": [
    "from sentence_transformers import SentenceTransformer\n",
    "from sklearn.metrics.pairwise import cosine_similarity\n",
    "from tqdm import tqdm\n",
    "import csv"
   ]
  },
  {
   "cell_type": "code",
   "execution_count": 2,
   "id": "2ec9623a-1375-4ff1-baf5-c6ab413e67a1",
   "metadata": {},
   "outputs": [],
   "source": [
    "model = SentenceTransformer('all-MiniLM-L6-v2')"
   ]
  },
  {
   "cell_type": "code",
   "execution_count": 3,
   "id": "aa14a02b-1e4f-4513-907c-c3c88ac06af1",
   "metadata": {},
   "outputs": [],
   "source": [
    "corpus_path = [\"data/bq_corpus/test.tsv\", \"data/lcqmc/test.tsv\", \"data/paws-x-zh/test.tsv\"]"
   ]
  },
  {
   "cell_type": "code",
   "execution_count": 4,
   "id": "f34c27d4-327b-4d5d-a7f6-a3b02c8b5c49",
   "metadata": {},
   "outputs": [
    {
     "name": "stderr",
     "output_type": "stream",
     "text": [
      "100%|███████████████████████████████████████████████████████████████████████████| 10000/10000 [01:28<00:00, 112.88it/s]\n",
      "100%|███████████████████████████████████████████████████████████████████████████| 12500/12500 [01:46<00:00, 117.16it/s]\n",
      "100%|██████████████████████████████████████████████████████████████████████████████| 2000/2000 [00:32<00:00, 61.51it/s]\n"
     ]
    }
   ],
   "source": [
    "for path in corpus_path:\n",
    "    cls_result = []\n",
    "    test_pairs = open(path, encoding='utf-8').readlines()    \n",
    "    \n",
    "    for i in tqdm(range(len(test_pairs))):\n",
    "        pair = test_pairs[i].split('\\t')\n",
    "\n",
    "        sentence_embeddings = model.encode(pair)\n",
    "        cossin = cosine_similarity(\n",
    "            sentence_embeddings[0:1],\n",
    "            sentence_embeddings[1:2]\n",
    "        )\n",
    "\n",
    "        if cossin > 0.9:\n",
    "            cls_result.append(1)\n",
    "        else:\n",
    "            cls_result.append(0)\n",
    "\n",
    "    with open('result/' + path.split('/')[1] + \".tsv\", 'w') as out_file:\n",
    "        tsv_writer = csv.writer(out_file, delimiter='\\t')\n",
    "        tsv_writer.writerow(['index', 'prediction'])\n",
    "        for i in range(len(cls_result)):\n",
    "            tsv_writer.writerow([str(i), str(cls_result[i])])"
   ]
  }
 ],
 "metadata": {
  "kernelspec": {
   "display_name": "Python 3 (ipykernel)",
   "language": "python",
   "name": "python3"
  },
  "language_info": {
   "codemirror_mode": {
    "name": "ipython",
    "version": 3
   },
   "file_extension": ".py",
   "mimetype": "text/x-python",
   "name": "python",
   "nbconvert_exporter": "python",
   "pygments_lexer": "ipython3",
   "version": "3.9.7"
  }
 },
 "nbformat": 4,
 "nbformat_minor": 5
}
